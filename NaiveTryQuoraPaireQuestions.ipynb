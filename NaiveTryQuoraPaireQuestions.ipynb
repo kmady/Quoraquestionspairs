{
 "cells": [
  {
   "cell_type": "markdown",
   "metadata": {},
   "source": [
    "# Model selection  with Naive featuring \n",
    "#  Quora Question Pairs\n",
    "# Identification of  question pairs that have the same intent."
   ]
  },
  {
   "cell_type": "markdown",
   "metadata": {},
   "source": [
    "The purpose of this project is to understand this data and to select predictive \n",
    "\n",
    "model using naive featuring and RandomizedSearchCV  for hyperparameters tuning.\n",
    "\n",
    "This notebook is organized as followed\n",
    "\n",
    "1. A quick look at the data\n",
    "\n",
    "2. Feature engineering\n",
    "\n",
    "3.  Models selection and hyperparameters tuning\n",
    "\n",
    "Submission"
   ]
  },
  {
   "cell_type": "markdown",
   "metadata": {},
   "source": [
    "Importation of libraries and load data."
   ]
  },
  {
   "cell_type": "code",
   "execution_count": 1,
   "metadata": {},
   "outputs": [],
   "source": [
    "import pandas as pd\n",
    "import numpy as np\n",
    "import matplotlib.pyplot as plt\n",
    "%matplotlib inline\n",
    "import seaborn as sns\n",
    "sns.set(style=\"white\", color_codes=True)\n",
    "from nltk.tokenize import sent_tokenize, word_tokenize\n",
    "from nltk.corpus import stopwords\n",
    "import sklearn \n",
    "from sklearn.svm import LinearSVC\n",
    "from sklearn.tree import DecisionTreeClassifier\n",
    "from sklearn.ensemble import RandomForestClassifier\n",
    "from sklearn.linear_model import LogisticRegression\n",
    "from sklearn.naive_bayes import MultinomialNB\n",
    "from sklearn.model_selection import train_test_split\n",
    "from sklearn.model_selection import cross_val_score, cross_val_predict\n",
    "from sklearn.metrics import accuracy_score, confusion_matrix, precision_score, recall_score, f1_score, roc_auc_score\n",
    "from sklearn.model_selection import RandomizedSearchCV"
   ]
  },
  {
   "cell_type": "code",
   "execution_count": 2,
   "metadata": {},
   "outputs": [],
   "source": [
    "train = pd.read_csv('train.csv')\n",
    "test = pd.read_csv('test.csv')"
   ]
  },
  {
   "cell_type": "markdown",
   "metadata": {},
   "source": [
    "# 1. A quick look at the data"
   ]
  },
  {
   "cell_type": "code",
   "execution_count": 3,
   "metadata": {},
   "outputs": [
    {
     "data": {
      "text/html": [
       "<div>\n",
       "<style scoped>\n",
       "    .dataframe tbody tr th:only-of-type {\n",
       "        vertical-align: middle;\n",
       "    }\n",
       "\n",
       "    .dataframe tbody tr th {\n",
       "        vertical-align: top;\n",
       "    }\n",
       "\n",
       "    .dataframe thead th {\n",
       "        text-align: right;\n",
       "    }\n",
       "</style>\n",
       "<table border=\"1\" class=\"dataframe\">\n",
       "  <thead>\n",
       "    <tr style=\"text-align: right;\">\n",
       "      <th></th>\n",
       "      <th>id</th>\n",
       "      <th>qid1</th>\n",
       "      <th>qid2</th>\n",
       "      <th>question1</th>\n",
       "      <th>question2</th>\n",
       "      <th>is_duplicate</th>\n",
       "    </tr>\n",
       "  </thead>\n",
       "  <tbody>\n",
       "    <tr>\n",
       "      <th>0</th>\n",
       "      <td>0</td>\n",
       "      <td>1</td>\n",
       "      <td>2</td>\n",
       "      <td>What is the step by step guide to invest in sh...</td>\n",
       "      <td>What is the step by step guide to invest in sh...</td>\n",
       "      <td>0</td>\n",
       "    </tr>\n",
       "    <tr>\n",
       "      <th>1</th>\n",
       "      <td>1</td>\n",
       "      <td>3</td>\n",
       "      <td>4</td>\n",
       "      <td>What is the story of Kohinoor (Koh-i-Noor) Dia...</td>\n",
       "      <td>What would happen if the Indian government sto...</td>\n",
       "      <td>0</td>\n",
       "    </tr>\n",
       "    <tr>\n",
       "      <th>2</th>\n",
       "      <td>2</td>\n",
       "      <td>5</td>\n",
       "      <td>6</td>\n",
       "      <td>How can I increase the speed of my internet co...</td>\n",
       "      <td>How can Internet speed be increased by hacking...</td>\n",
       "      <td>0</td>\n",
       "    </tr>\n",
       "    <tr>\n",
       "      <th>3</th>\n",
       "      <td>3</td>\n",
       "      <td>7</td>\n",
       "      <td>8</td>\n",
       "      <td>Why am I mentally very lonely? How can I solve...</td>\n",
       "      <td>Find the remainder when [math]23^{24}[/math] i...</td>\n",
       "      <td>0</td>\n",
       "    </tr>\n",
       "    <tr>\n",
       "      <th>4</th>\n",
       "      <td>4</td>\n",
       "      <td>9</td>\n",
       "      <td>10</td>\n",
       "      <td>Which one dissolve in water quikly sugar, salt...</td>\n",
       "      <td>Which fish would survive in salt water?</td>\n",
       "      <td>0</td>\n",
       "    </tr>\n",
       "  </tbody>\n",
       "</table>\n",
       "</div>"
      ],
      "text/plain": [
       "   id  qid1  qid2                                          question1  \\\n",
       "0   0     1     2  What is the step by step guide to invest in sh...   \n",
       "1   1     3     4  What is the story of Kohinoor (Koh-i-Noor) Dia...   \n",
       "2   2     5     6  How can I increase the speed of my internet co...   \n",
       "3   3     7     8  Why am I mentally very lonely? How can I solve...   \n",
       "4   4     9    10  Which one dissolve in water quikly sugar, salt...   \n",
       "\n",
       "                                           question2  is_duplicate  \n",
       "0  What is the step by step guide to invest in sh...             0  \n",
       "1  What would happen if the Indian government sto...             0  \n",
       "2  How can Internet speed be increased by hacking...             0  \n",
       "3  Find the remainder when [math]23^{24}[/math] i...             0  \n",
       "4            Which fish would survive in salt water?             0  "
      ]
     },
     "execution_count": 3,
     "metadata": {},
     "output_type": "execute_result"
    }
   ],
   "source": [
    "train.head()"
   ]
  },
  {
   "cell_type": "code",
   "execution_count": 4,
   "metadata": {},
   "outputs": [
    {
     "name": "stdout",
     "output_type": "stream",
     "text": [
      "<class 'pandas.core.frame.DataFrame'>\n",
      "RangeIndex: 404290 entries, 0 to 404289\n",
      "Data columns (total 6 columns):\n",
      "id              404290 non-null int64\n",
      "qid1            404290 non-null int64\n",
      "qid2            404290 non-null int64\n",
      "question1       404289 non-null object\n",
      "question2       404288 non-null object\n",
      "is_duplicate    404290 non-null int64\n",
      "dtypes: int64(4), object(2)\n",
      "memory usage: 18.5+ MB\n"
     ]
    }
   ],
   "source": [
    "train.info()"
   ]
  },
  {
   "cell_type": "code",
   "execution_count": 5,
   "metadata": {},
   "outputs": [
    {
     "data": {
      "text/html": [
       "<div>\n",
       "<style scoped>\n",
       "    .dataframe tbody tr th:only-of-type {\n",
       "        vertical-align: middle;\n",
       "    }\n",
       "\n",
       "    .dataframe tbody tr th {\n",
       "        vertical-align: top;\n",
       "    }\n",
       "\n",
       "    .dataframe thead th {\n",
       "        text-align: right;\n",
       "    }\n",
       "</style>\n",
       "<table border=\"1\" class=\"dataframe\">\n",
       "  <thead>\n",
       "    <tr style=\"text-align: right;\">\n",
       "      <th></th>\n",
       "      <th>id</th>\n",
       "      <th>qid1</th>\n",
       "      <th>qid2</th>\n",
       "      <th>question1</th>\n",
       "      <th>question2</th>\n",
       "    </tr>\n",
       "    <tr>\n",
       "      <th>is_duplicate</th>\n",
       "      <th></th>\n",
       "      <th></th>\n",
       "      <th></th>\n",
       "      <th></th>\n",
       "      <th></th>\n",
       "    </tr>\n",
       "  </thead>\n",
       "  <tbody>\n",
       "    <tr>\n",
       "      <th>0</th>\n",
       "      <td>255027</td>\n",
       "      <td>255027</td>\n",
       "      <td>255027</td>\n",
       "      <td>255026</td>\n",
       "      <td>255025</td>\n",
       "    </tr>\n",
       "    <tr>\n",
       "      <th>1</th>\n",
       "      <td>149263</td>\n",
       "      <td>149263</td>\n",
       "      <td>149263</td>\n",
       "      <td>149263</td>\n",
       "      <td>149263</td>\n",
       "    </tr>\n",
       "  </tbody>\n",
       "</table>\n",
       "</div>"
      ],
      "text/plain": [
       "                  id    qid1    qid2  question1  question2\n",
       "is_duplicate                                              \n",
       "0             255027  255027  255027     255026     255025\n",
       "1             149263  149263  149263     149263     149263"
      ]
     },
     "execution_count": 5,
     "metadata": {},
     "output_type": "execute_result"
    }
   ],
   "source": [
    "train.groupby('is_duplicate').count()"
   ]
  },
  {
   "cell_type": "code",
   "execution_count": 6,
   "metadata": {},
   "outputs": [
    {
     "data": {
      "image/png": "[encoded data removed]",
      "text/plain": [
       "<Figure size 432x288 with 1 Axes>"
      ]
     },
     "metadata": {},
     "output_type": "display_data"
    }
   ],
   "source": [
    "train.groupby(\"is_duplicate\")['id'].count().plot.bar(ylim=0)\n",
    "plt.show()"
   ]
  },
  {
   "cell_type": "markdown",
   "metadata": {},
   "source": [
    "Data is imbalanced.  Before rebalancing it, we fill nan with \" \" the empty string."
   ]
  },
  {
   "cell_type": "code",
   "execution_count": 7,
   "metadata": {},
   "outputs": [],
   "source": [
    "train = train.fillna(\" \")"
   ]
  },
  {
   "cell_type": "code",
   "execution_count": 8,
   "metadata": {},
   "outputs": [
    {
     "name": "stdout",
     "output_type": "stream",
     "text": [
      "<class 'pandas.core.frame.DataFrame'>\n",
      "RangeIndex: 404290 entries, 0 to 404289\n",
      "Data columns (total 6 columns):\n",
      "id              404290 non-null int64\n",
      "qid1            404290 non-null int64\n",
      "qid2            404290 non-null int64\n",
      "question1       404290 non-null object\n",
      "question2       404290 non-null object\n",
      "is_duplicate    404290 non-null int64\n",
      "dtypes: int64(4), object(2)\n",
      "memory usage: 18.5+ MB\n"
     ]
    }
   ],
   "source": [
    "train.info()"
   ]
  },
  {
   "cell_type": "code",
   "execution_count": 9,
   "metadata": {},
   "outputs": [],
   "source": [
    "from sklearn.utils import resample"
   ]
  },
  {
   "cell_type": "code",
   "execution_count": 10,
   "metadata": {},
   "outputs": [],
   "source": [
    "train_majority = train[train[\"is_duplicate\"]== 0]\n",
    "train_minority = train[train[\"is_duplicate\"]== 1]"
   ]
  },
  {
   "cell_type": "code",
   "execution_count": 11,
   "metadata": {},
   "outputs": [],
   "source": [
    "# Upsample minority class\n",
    "train_minority_upsampled = resample(train_minority, \n",
    "                                 replace=True,     # sample with replacement\n",
    "                                 n_samples=255027,    # to match majority class\n",
    "                                 random_state=1230) # reproducible results\n",
    " "
   ]
  },
  {
   "cell_type": "code",
   "execution_count": 12,
   "metadata": {},
   "outputs": [],
   "source": [
    "# Combine majority class with upsampled minority class\n",
    "train_upsampled = pd.concat([train_majority, train_minority_upsampled])\n",
    " "
   ]
  },
  {
   "cell_type": "code",
   "execution_count": 13,
   "metadata": {},
   "outputs": [
    {
     "data": {
      "text/plain": [
       "1    255027\n",
       "0    255027\n",
       "Name: is_duplicate, dtype: int64"
      ]
     },
     "execution_count": 13,
     "metadata": {},
     "output_type": "execute_result"
    }
   ],
   "source": [
    "# Display new class counts\n",
    "train_upsampled[\"is_duplicate\"].value_counts()"
   ]
  },
  {
   "cell_type": "code",
   "execution_count": 14,
   "metadata": {},
   "outputs": [
    {
     "data": {
      "text/html": [
       "<div>\n",
       "<style scoped>\n",
       "    .dataframe tbody tr th:only-of-type {\n",
       "        vertical-align: middle;\n",
       "    }\n",
       "\n",
       "    .dataframe tbody tr th {\n",
       "        vertical-align: top;\n",
       "    }\n",
       "\n",
       "    .dataframe thead th {\n",
       "        text-align: right;\n",
       "    }\n",
       "</style>\n",
       "<table border=\"1\" class=\"dataframe\">\n",
       "  <thead>\n",
       "    <tr style=\"text-align: right;\">\n",
       "      <th></th>\n",
       "      <th>id</th>\n",
       "      <th>qid1</th>\n",
       "      <th>qid2</th>\n",
       "      <th>question1</th>\n",
       "      <th>question2</th>\n",
       "      <th>is_duplicate</th>\n",
       "    </tr>\n",
       "  </thead>\n",
       "  <tbody>\n",
       "    <tr>\n",
       "      <th>0</th>\n",
       "      <td>0</td>\n",
       "      <td>1</td>\n",
       "      <td>2</td>\n",
       "      <td>What is the step by step guide to invest in sh...</td>\n",
       "      <td>What is the step by step guide to invest in sh...</td>\n",
       "      <td>0</td>\n",
       "    </tr>\n",
       "    <tr>\n",
       "      <th>1</th>\n",
       "      <td>1</td>\n",
       "      <td>3</td>\n",
       "      <td>4</td>\n",
       "      <td>What is the story of Kohinoor (Koh-i-Noor) Dia...</td>\n",
       "      <td>What would happen if the Indian government sto...</td>\n",
       "      <td>0</td>\n",
       "    </tr>\n",
       "    <tr>\n",
       "      <th>2</th>\n",
       "      <td>2</td>\n",
       "      <td>5</td>\n",
       "      <td>6</td>\n",
       "      <td>How can I increase the speed of my internet co...</td>\n",
       "      <td>How can Internet speed be increased by hacking...</td>\n",
       "      <td>0</td>\n",
       "    </tr>\n",
       "    <tr>\n",
       "      <th>3</th>\n",
       "      <td>3</td>\n",
       "      <td>7</td>\n",
       "      <td>8</td>\n",
       "      <td>Why am I mentally very lonely? How can I solve...</td>\n",
       "      <td>Find the remainder when [math]23^{24}[/math] i...</td>\n",
       "      <td>0</td>\n",
       "    </tr>\n",
       "    <tr>\n",
       "      <th>4</th>\n",
       "      <td>4</td>\n",
       "      <td>9</td>\n",
       "      <td>10</td>\n",
       "      <td>Which one dissolve in water quikly sugar, salt...</td>\n",
       "      <td>Which fish would survive in salt water?</td>\n",
       "      <td>0</td>\n",
       "    </tr>\n",
       "  </tbody>\n",
       "</table>\n",
       "</div>"
      ],
      "text/plain": [
       "   id  qid1  qid2                                          question1  \\\n",
       "0   0     1     2  What is the step by step guide to invest in sh...   \n",
       "1   1     3     4  What is the story of Kohinoor (Koh-i-Noor) Dia...   \n",
       "2   2     5     6  How can I increase the speed of my internet co...   \n",
       "3   3     7     8  Why am I mentally very lonely? How can I solve...   \n",
       "4   4     9    10  Which one dissolve in water quikly sugar, salt...   \n",
       "\n",
       "                                           question2  is_duplicate  \n",
       "0  What is the step by step guide to invest in sh...             0  \n",
       "1  What would happen if the Indian government sto...             0  \n",
       "2  How can Internet speed be increased by hacking...             0  \n",
       "3  Find the remainder when [math]23^{24}[/math] i...             0  \n",
       "4            Which fish would survive in salt water?             0  "
      ]
     },
     "execution_count": 14,
     "metadata": {},
     "output_type": "execute_result"
    }
   ],
   "source": [
    "train_upsampled.head()"
   ]
  },
  {
   "cell_type": "code",
   "execution_count": 15,
   "metadata": {},
   "outputs": [
    {
     "name": "stdout",
     "output_type": "stream",
     "text": [
      "<class 'pandas.core.frame.DataFrame'>\n",
      "Int64Index: 510054 entries, 0 to 253679\n",
      "Data columns (total 6 columns):\n",
      "id              510054 non-null int64\n",
      "qid1            510054 non-null int64\n",
      "qid2            510054 non-null int64\n",
      "question1       510054 non-null object\n",
      "question2       510054 non-null object\n",
      "is_duplicate    510054 non-null int64\n",
      "dtypes: int64(4), object(2)\n",
      "memory usage: 27.2+ MB\n"
     ]
    }
   ],
   "source": [
    "train_upsampled.info()"
   ]
  },
  {
   "cell_type": "code",
   "execution_count": 16,
   "metadata": {},
   "outputs": [
    {
     "data": {
      "text/html": [
       "<div>\n",
       "<style scoped>\n",
       "    .dataframe tbody tr th:only-of-type {\n",
       "        vertical-align: middle;\n",
       "    }\n",
       "\n",
       "    .dataframe tbody tr th {\n",
       "        vertical-align: top;\n",
       "    }\n",
       "\n",
       "    .dataframe thead th {\n",
       "        text-align: right;\n",
       "    }\n",
       "</style>\n",
       "<table border=\"1\" class=\"dataframe\">\n",
       "  <thead>\n",
       "    <tr style=\"text-align: right;\">\n",
       "      <th></th>\n",
       "      <th>test_id</th>\n",
       "      <th>question1</th>\n",
       "      <th>question2</th>\n",
       "    </tr>\n",
       "  </thead>\n",
       "  <tbody>\n",
       "    <tr>\n",
       "      <th>0</th>\n",
       "      <td>0</td>\n",
       "      <td>How does the Surface Pro himself 4 compare wit...</td>\n",
       "      <td>Why did Microsoft choose core m3 and not core ...</td>\n",
       "    </tr>\n",
       "    <tr>\n",
       "      <th>1</th>\n",
       "      <td>1</td>\n",
       "      <td>Should I have a hair transplant at age 24? How...</td>\n",
       "      <td>How much cost does hair transplant require?</td>\n",
       "    </tr>\n",
       "    <tr>\n",
       "      <th>2</th>\n",
       "      <td>2</td>\n",
       "      <td>What but is the best way to send money from Ch...</td>\n",
       "      <td>What you send money to China?</td>\n",
       "    </tr>\n",
       "    <tr>\n",
       "      <th>3</th>\n",
       "      <td>3</td>\n",
       "      <td>Which food not emulsifiers?</td>\n",
       "      <td>What foods fibre?</td>\n",
       "    </tr>\n",
       "    <tr>\n",
       "      <th>4</th>\n",
       "      <td>4</td>\n",
       "      <td>How \"aberystwyth\" start reading?</td>\n",
       "      <td>How their can I start reading?</td>\n",
       "    </tr>\n",
       "  </tbody>\n",
       "</table>\n",
       "</div>"
      ],
      "text/plain": [
       "   test_id                                          question1  \\\n",
       "0        0  How does the Surface Pro himself 4 compare wit...   \n",
       "1        1  Should I have a hair transplant at age 24? How...   \n",
       "2        2  What but is the best way to send money from Ch...   \n",
       "3        3                        Which food not emulsifiers?   \n",
       "4        4                   How \"aberystwyth\" start reading?   \n",
       "\n",
       "                                           question2  \n",
       "0  Why did Microsoft choose core m3 and not core ...  \n",
       "1        How much cost does hair transplant require?  \n",
       "2                      What you send money to China?  \n",
       "3                                  What foods fibre?  \n",
       "4                     How their can I start reading?  "
      ]
     },
     "execution_count": 16,
     "metadata": {},
     "output_type": "execute_result"
    }
   ],
   "source": [
    "test.head()"
   ]
  },
  {
   "cell_type": "code",
   "execution_count": 17,
   "metadata": {},
   "outputs": [
    {
     "name": "stdout",
     "output_type": "stream",
     "text": [
      "<class 'pandas.core.frame.DataFrame'>\n",
      "RangeIndex: 2345796 entries, 0 to 2345795\n",
      "Data columns (total 3 columns):\n",
      "test_id      int64\n",
      "question1    object\n",
      "question2    object\n",
      "dtypes: int64(1), object(2)\n",
      "memory usage: 53.7+ MB\n"
     ]
    }
   ],
   "source": [
    "test.info()"
   ]
  },
  {
   "cell_type": "code",
   "execution_count": 18,
   "metadata": {},
   "outputs": [],
   "source": [
    "Df = train_upsampled"
   ]
  },
  {
   "cell_type": "markdown",
   "metadata": {},
   "source": [
    "# 2. Feature engineering\n",
    "\n",
    "Now, let us create four new numerical features: word_shared, portion_words1, nb_words1 and nb_words2"
   ]
  },
  {
   "cell_type": "code",
   "execution_count": 19,
   "metadata": {},
   "outputs": [],
   "source": [
    "stop_words = set(stopwords.words('english'))"
   ]
  },
  {
   "cell_type": "code",
   "execution_count": 20,
   "metadata": {},
   "outputs": [],
   "source": [
    "def remove(list):\n",
    "    for a in list:\n",
    "        if a in stop_words:\n",
    "            list.remove(a)\n",
    "    return list"
   ]
  },
  {
   "cell_type": "code",
   "execution_count": 21,
   "metadata": {},
   "outputs": [],
   "source": [
    "def cleanText(text):\n",
    "    if text != text:\n",
    "        text = \"\"\n",
    "    else:\n",
    "        text = text.lower()\n",
    "        punctuations = '''!()-[]{};:'\"\\,<>./?@#$%^&*_~'''\n",
    "        no_punct = \" \"\n",
    "        for char in text:\n",
    "            if char not in punctuations:\n",
    "                no_punct = no_punct + char\n",
    "        text = no_punct\n",
    "    return text"
   ]
  },
  {
   "cell_type": "code",
   "execution_count": 22,
   "metadata": {},
   "outputs": [],
   "source": [
    "# first feature related to question1\n",
    "Df['nb_words1'] = [len(remove(cleanText(text).split())) for text in Df['question1']]"
   ]
  },
  {
   "cell_type": "code",
   "execution_count": 23,
   "metadata": {},
   "outputs": [],
   "source": [
    "test['nb_words1'] = [len(remove(cleanText(text).split())) for text in test['question1']]"
   ]
  },
  {
   "cell_type": "code",
   "execution_count": 24,
   "metadata": {},
   "outputs": [],
   "source": [
    "# second feature related to question2\n",
    "Df['nb_words2'] = [len(remove(cleanText(text).split())) for text in Df['question2']]"
   ]
  },
  {
   "cell_type": "code",
   "execution_count": 25,
   "metadata": {},
   "outputs": [],
   "source": [
    "test['nb_words2'] = [len(remove(cleanText(text).split())) for text in test['question2']]"
   ]
  },
  {
   "cell_type": "markdown",
   "metadata": {},
   "source": [
    "Construction of the two remained features announced"
   ]
  },
  {
   "cell_type": "code",
   "execution_count": 26,
   "metadata": {},
   "outputs": [],
   "source": [
    "def WordShared(list1, list2):\n",
    "    word1 = set(list1) - stop_words\n",
    "    word2 = set(list2) - stop_words \n",
    "    if len(word1.union(word2)) == 0.0:\n",
    "           return 0.0\n",
    "    else:\n",
    "           return 1.0 * len(word1 & word2)/len(word1.union(word2))\n",
    "           \n",
    "    "
   ]
  },
  {
   "cell_type": "code",
   "execution_count": 27,
   "metadata": {},
   "outputs": [],
   "source": [
    "Df['list_words_question1'] = [remove(cleanText(text).split()) for text in Df['question1']]"
   ]
  },
  {
   "cell_type": "code",
   "execution_count": 28,
   "metadata": {},
   "outputs": [],
   "source": [
    "Df['list_words_question2'] = [remove(cleanText(text).split()) for text in Df['question2']]"
   ]
  },
  {
   "cell_type": "code",
   "execution_count": 29,
   "metadata": {},
   "outputs": [],
   "source": [
    "test['list_words_question1'] = [remove(cleanText(text).split()) for text in test['question1']]"
   ]
  },
  {
   "cell_type": "code",
   "execution_count": 30,
   "metadata": {},
   "outputs": [],
   "source": [
    "test['list_words_question2'] = [remove(cleanText(text).split()) for text in test['question2']]"
   ]
  },
  {
   "cell_type": "code",
   "execution_count": 31,
   "metadata": {},
   "outputs": [],
   "source": [
    "Df['word_shared'] = [WordShared(list1, list2) for (list1, list2) in zip(Df['list_words_question1'], Df['list_words_question2'])]"
   ]
  },
  {
   "cell_type": "code",
   "execution_count": 32,
   "metadata": {},
   "outputs": [],
   "source": [
    "test['word_shared'] = [WordShared(list1, list2) for (list1, list2) in zip(test['list_words_question1'], test['list_words_question2'])]"
   ]
  },
  {
   "cell_type": "code",
   "execution_count": 33,
   "metadata": {},
   "outputs": [],
   "source": [
    "Df['portion_words'] = Df['nb_words1']/ (Df['nb_words2']+1)"
   ]
  },
  {
   "cell_type": "code",
   "execution_count": 34,
   "metadata": {},
   "outputs": [],
   "source": [
    "test['portion_words'] = test['nb_words1'] / (test['nb_words2']+1)"
   ]
  },
  {
   "cell_type": "code",
   "execution_count": 35,
   "metadata": {},
   "outputs": [
    {
     "name": "stdout",
     "output_type": "stream",
     "text": [
      "<class 'pandas.core.frame.DataFrame'>\n",
      "Int64Index: 510054 entries, 0 to 253679\n",
      "Data columns (total 12 columns):\n",
      "id                      510054 non-null int64\n",
      "qid1                    510054 non-null int64\n",
      "qid2                    510054 non-null int64\n",
      "question1               510054 non-null object\n",
      "question2               510054 non-null object\n",
      "is_duplicate            510054 non-null int64\n",
      "nb_words1               510054 non-null int64\n",
      "nb_words2               510054 non-null int64\n",
      "list_words_question1    510054 non-null object\n",
      "list_words_question2    510054 non-null object\n",
      "word_shared             510054 non-null float64\n",
      "portion_words           510054 non-null float64\n",
      "dtypes: float64(2), int64(6), object(4)\n",
      "memory usage: 50.6+ MB\n"
     ]
    }
   ],
   "source": [
    "Df.info()"
   ]
  },
  {
   "cell_type": "markdown",
   "metadata": {},
   "source": [
    "Let us take a look at the distribution of the features"
   ]
  },
  {
   "cell_type": "code",
   "execution_count": 36,
   "metadata": {},
   "outputs": [
    {
     "data": {
      "image/png": "[encoded data removed]",
      "text/plain": [
       "<Figure size 864x432 with 4 Axes>"
      ]
     },
     "metadata": {},
     "output_type": "display_data"
    }
   ],
   "source": [
    "Df[['word_shared', 'nb_words1', 'nb_words2', 'portion_words']].hist(bins=50, color='b',figsize=(12,6), alpha=0.5)\n",
    "plt.show()"
   ]
  },
  {
   "cell_type": "markdown",
   "metadata": {},
   "source": [
    "Let us describe the features"
   ]
  },
  {
   "cell_type": "code",
   "execution_count": 37,
   "metadata": {},
   "outputs": [
    {
     "data": {
      "text/html": [
       "<div>\n",
       "<style scoped>\n",
       "    .dataframe tbody tr th:only-of-type {\n",
       "        vertical-align: middle;\n",
       "    }\n",
       "\n",
       "    .dataframe tbody tr th {\n",
       "        vertical-align: top;\n",
       "    }\n",
       "\n",
       "    .dataframe thead th {\n",
       "        text-align: right;\n",
       "    }\n",
       "</style>\n",
       "<table border=\"1\" class=\"dataframe\">\n",
       "  <thead>\n",
       "    <tr style=\"text-align: right;\">\n",
       "      <th></th>\n",
       "      <th>word_shared</th>\n",
       "      <th>nb_words1</th>\n",
       "      <th>nb_words2</th>\n",
       "      <th>portion_words</th>\n",
       "    </tr>\n",
       "  </thead>\n",
       "  <tbody>\n",
       "    <tr>\n",
       "      <th>count</th>\n",
       "      <td>510054.000000</td>\n",
       "      <td>510054.000000</td>\n",
       "      <td>510054.000000</td>\n",
       "      <td>510054.000000</td>\n",
       "    </tr>\n",
       "    <tr>\n",
       "      <th>mean</th>\n",
       "      <td>0.404977</td>\n",
       "      <td>6.925620</td>\n",
       "      <td>7.039225</td>\n",
       "      <td>0.918858</td>\n",
       "    </tr>\n",
       "    <tr>\n",
       "      <th>std</th>\n",
       "      <td>0.266564</td>\n",
       "      <td>3.485207</td>\n",
       "      <td>3.927988</td>\n",
       "      <td>0.414508</td>\n",
       "    </tr>\n",
       "    <tr>\n",
       "      <th>min</th>\n",
       "      <td>0.000000</td>\n",
       "      <td>0.000000</td>\n",
       "      <td>0.000000</td>\n",
       "      <td>0.000000</td>\n",
       "    </tr>\n",
       "    <tr>\n",
       "      <th>25%</th>\n",
       "      <td>0.200000</td>\n",
       "      <td>5.000000</td>\n",
       "      <td>5.000000</td>\n",
       "      <td>0.666667</td>\n",
       "    </tr>\n",
       "    <tr>\n",
       "      <th>50%</th>\n",
       "      <td>0.375000</td>\n",
       "      <td>6.000000</td>\n",
       "      <td>6.000000</td>\n",
       "      <td>0.833333</td>\n",
       "    </tr>\n",
       "    <tr>\n",
       "      <th>75%</th>\n",
       "      <td>0.600000</td>\n",
       "      <td>8.000000</td>\n",
       "      <td>8.000000</td>\n",
       "      <td>1.000000</td>\n",
       "    </tr>\n",
       "    <tr>\n",
       "      <th>max</th>\n",
       "      <td>1.000000</td>\n",
       "      <td>78.000000</td>\n",
       "      <td>150.000000</td>\n",
       "      <td>13.000000</td>\n",
       "    </tr>\n",
       "  </tbody>\n",
       "</table>\n",
       "</div>"
      ],
      "text/plain": [
       "         word_shared      nb_words1      nb_words2  portion_words\n",
       "count  510054.000000  510054.000000  510054.000000  510054.000000\n",
       "mean        0.404977       6.925620       7.039225       0.918858\n",
       "std         0.266564       3.485207       3.927988       0.414508\n",
       "min         0.000000       0.000000       0.000000       0.000000\n",
       "25%         0.200000       5.000000       5.000000       0.666667\n",
       "50%         0.375000       6.000000       6.000000       0.833333\n",
       "75%         0.600000       8.000000       8.000000       1.000000\n",
       "max         1.000000      78.000000     150.000000      13.000000"
      ]
     },
     "execution_count": 37,
     "metadata": {},
     "output_type": "execute_result"
    }
   ],
   "source": [
    "Df[['word_shared', 'nb_words1', 'nb_words2', 'portion_words']].describe()"
   ]
  },
  {
   "cell_type": "code",
   "execution_count": 38,
   "metadata": {},
   "outputs": [
    {
     "data": {
      "image/png": "[encoded data removed]",
      "text/plain": [
       "<Figure size 1080x504 with 2 Axes>"
      ]
     },
     "metadata": {},
     "output_type": "display_data"
    }
   ],
   "source": [
    "#I notice that these three features are uncorrelated\n",
    "corr = Df[['word_shared', 'nb_words1', 'nb_words2', 'portion_words']].corr()\n",
    "\n",
    "mask = np.zeros_like(corr, dtype=np.bool)\n",
    "mask[np.triu_indices_from(mask)] = True\n",
    "sns.set(style=\"white\")\n",
    "\n",
    "f, ax = plt.subplots(figsize=(15, 7))\n",
    "cmap = sns.diverging_palette(20, 10, as_cmap=True)\n",
    "\n",
    "sns.heatmap(corr, mask=mask, cmap=cmap, vmax=.3, center=0, square=True, linewidths=.1, cbar_kws={\"shrink\": .5});"
   ]
  },
  {
   "cell_type": "markdown",
   "metadata": {},
   "source": [
    "That is a good news"
   ]
  },
  {
   "cell_type": "code",
   "execution_count": 39,
   "metadata": {},
   "outputs": [],
   "source": [
    "Dfviz = Df[['word_shared', 'nb_words1', 'nb_words2', 'portion_words', 'is_duplicate']]"
   ]
  },
  {
   "cell_type": "code",
   "execution_count": 40,
   "metadata": {},
   "outputs": [
    {
     "data": {
      "image/png": "[encoded data removed]",
      "text/plain": [
       "<Figure size 957.75x900 with 30 Axes>"
      ]
     },
     "metadata": {},
     "output_type": "display_data"
    }
   ],
   "source": [
    "g = sns.pairplot(Dfviz, hue=\"is_duplicate\")"
   ]
  },
  {
   "cell_type": "markdown",
   "metadata": {},
   "source": [
    "Now, let 's look at the longest questions just for fun"
   ]
  },
  {
   "cell_type": "markdown",
   "metadata": {},
   "source": [
    "Let 's look a the longest question in question1"
   ]
  },
  {
   "cell_type": "code",
   "execution_count": 41,
   "metadata": {},
   "outputs": [],
   "source": [
    "DflongSentence1 = Df[Df['nb_words1']==78]"
   ]
  },
  {
   "cell_type": "code",
   "execution_count": 42,
   "metadata": {},
   "outputs": [
    {
     "data": {
      "text/plain": [
       "35101    Like everyone else (here in U.S), I work with ...\n",
       "Name: question1, dtype: object"
      ]
     },
     "execution_count": 42,
     "metadata": {},
     "output_type": "execute_result"
    }
   ],
   "source": [
    "DflongSentence1['question1']"
   ]
  },
  {
   "cell_type": "code",
   "execution_count": 43,
   "metadata": {},
   "outputs": [
    {
     "data": {
      "text/plain": [
       "'Like everyone else (here in U.S), I work with a group of people I see and interact with every day. As a human rights advocate and Lesbian, my views are liberal and I by no means preach my beliefs in my work place. However, I want to know, when is it OK to state your opinions on an issue. For example, if someone mentions that their next door neighbor, who happens to be a 12 year old boy, was playing with dolls and that \"this is going down the wrong road and he is strange/weird\", is it OK for me to say that we shouldn\\'t judge him for who he is? So confused... This just happened at lunch and I am very upset about it...'"
      ]
     },
     "execution_count": 43,
     "metadata": {},
     "output_type": "execute_result"
    }
   ],
   "source": [
    "#The longuest question of question1\n",
    "DflongSentence1['question1'].iloc[0]"
   ]
  },
  {
   "cell_type": "code",
   "execution_count": 44,
   "metadata": {},
   "outputs": [
    {
     "data": {
      "text/plain": [
       "'When is it ok to force people to do things against their will if you are a liberal and wondering how much force you should advocate for?'"
      ]
     },
     "execution_count": 44,
     "metadata": {},
     "output_type": "execute_result"
    }
   ],
   "source": [
    "# The corresponding question in question2 of the longuest question in question1\n",
    "DflongSentence1['question2'].iloc[0]"
   ]
  },
  {
   "cell_type": "code",
   "execution_count": 45,
   "metadata": {},
   "outputs": [
    {
     "data": {
      "text/plain": [
       "0"
      ]
     },
     "execution_count": 45,
     "metadata": {},
     "output_type": "execute_result"
    }
   ],
   "source": [
    "# They don't match\n",
    "DflongSentence1['is_duplicate'].iloc[0]"
   ]
  },
  {
   "cell_type": "markdown",
   "metadata": {},
   "source": [
    "The longuest question of question2"
   ]
  },
  {
   "cell_type": "code",
   "execution_count": 46,
   "metadata": {},
   "outputs": [],
   "source": [
    "DflongSentence2 = Df[Df['nb_words2']==150]"
   ]
  },
  {
   "cell_type": "code",
   "execution_count": 47,
   "metadata": {},
   "outputs": [
    {
     "data": {
      "text/plain": [
       "18055     Heartbreak? Heartbreak? She's my girlfriend fo...\n",
       "51947     Heartbreak? Heartbreak? She's my girlfriend fo...\n",
       "75727     Heartbreak? Heartbreak? She's my girlfriend fo...\n",
       "94476     Heartbreak? Heartbreak? She's my girlfriend fo...\n",
       "118582    Heartbreak? Heartbreak? She's my girlfriend fo...\n",
       "130781    Heartbreak? Heartbreak? She's my girlfriend fo...\n",
       "131653    Heartbreak? Heartbreak? She's my girlfriend fo...\n",
       "166715    Heartbreak? Heartbreak? She's my girlfriend fo...\n",
       "199362    Heartbreak? Heartbreak? She's my girlfriend fo...\n",
       "237612    Heartbreak? Heartbreak? She's my girlfriend fo...\n",
       "341117    Heartbreak? Heartbreak? She's my girlfriend fo...\n",
       "377645    Heartbreak? Heartbreak? She's my girlfriend fo...\n",
       "397439    Heartbreak? Heartbreak? She's my girlfriend fo...\n",
       "Name: question2, dtype: object"
      ]
     },
     "execution_count": 47,
     "metadata": {},
     "output_type": "execute_result"
    }
   ],
   "source": [
    "# There are many questions in question2 with the maximal length\n",
    "DflongSentence2['question2']"
   ]
  },
  {
   "cell_type": "code",
   "execution_count": 48,
   "metadata": {},
   "outputs": [
    {
     "data": {
      "text/plain": [
       "\"Heartbreak? Heartbreak? She's my girlfriend for two months, I chose her over my girlfriend for 2 years. I like her so much to the point that I can't let her go even if she wants to end our relationship because of the other people around us most especially her family. I do the things for her that I'm not used to for a girl and I am willing to sacrifice everything just to have a little time with her. A little and limited time that I'm asking from her but she don't wanna give it to me. She's scared that someone might see us, that she's still having an affair with me. I love her and I want to be with her at least once a week even if just for a limited time. I'm not sure if I'm doing the right thing, all of my friends told me to stop it and just let it go 2 months is just 2 months not a deep relationship. But they don't feel what I feel, in this span of time I learned a lot, I learned how to love, to be loved, to sacrifice a good life, and to sacrifice a better clear future. My mind tells me to stop, but my heart tells me to hold, don't give up, stay with her and give her the unconditional love. Should I follow my mind or follow my heart?\""
      ]
     },
     "execution_count": 48,
     "metadata": {},
     "output_type": "execute_result"
    }
   ],
   "source": [
    "# Let's look at the first one! It is clearly a long mail!\n",
    "DflongSentence2['question2'].iloc[0]"
   ]
  },
  {
   "cell_type": "code",
   "execution_count": 49,
   "metadata": {},
   "outputs": [
    {
     "data": {
      "text/plain": [
       "\"Im moving to NY. My Dr gave me 2 refills of Xanax, but pharmacy said by law, they couldn't give me more than 1 refill per month. Is it true?\""
      ]
     },
     "execution_count": 49,
     "metadata": {},
     "output_type": "execute_result"
    }
   ],
   "source": [
    "# The corresponding question in question1 of the first longue question of question2\n",
    "DflongSentence2['question1'].iloc[0]"
   ]
  },
  {
   "cell_type": "code",
   "execution_count": 50,
   "metadata": {},
   "outputs": [
    {
     "data": {
      "text/plain": [
       "0"
      ]
     },
     "execution_count": 50,
     "metadata": {},
     "output_type": "execute_result"
    }
   ],
   "source": [
    "# They don't match.\n",
    "DflongSentence2['is_duplicate'].iloc[0]"
   ]
  },
  {
   "cell_type": "markdown",
   "metadata": {},
   "source": [
    "# 3.Models selection and hyperparameters tuning"
   ]
  },
  {
   "cell_type": "markdown",
   "metadata": {},
   "source": [
    "We first define a function to evaluate the model performance"
   ]
  },
  {
   "cell_type": "code",
   "execution_count": 51,
   "metadata": {},
   "outputs": [],
   "source": [
    "def evaluate(model, features, labels):  \n",
    "    predictions = model.predict(features)\n",
    "    errors = abs(predictions - labels)\n",
    "    precision = precision_score(labels, predictions)*100\n",
    "    recall = recall_score(labels, predictions)*100\n",
    "    f1_Score = f1_score(labels, predictions)*100\n",
    "    roc_auc = roc_auc_score(labels, predictions)*100\n",
    "    accuracy = accuracy_score(labels, predictions)*100\n",
    "    print('Model Performance')\n",
    "    print('Average Error: {:0.4f} degrees.'.format(np.mean(errors)))\n",
    "    print('Recall = {:0.2f}%.'.format(recall))\n",
    "    print('Precision = {:0.2f}%.'.format(precision))\n",
    "    print('F1_score = {:0.2f}%.'.format(f1_Score))\n",
    "    print('Accuracy = {:0.2f}%.'.format(accuracy))\n",
    "    print('Roc_AUC = {:0.2f}%.'.format(roc_auc))\n",
    "    \n",
    "    return accuracy"
   ]
  },
  {
   "cell_type": "markdown",
   "metadata": {},
   "source": [
    "## Logistic Regression\n",
    "For Bunchmark, first  let's try logistic regression using just threse features to make a prediction."
   ]
  },
  {
   "cell_type": "code",
   "execution_count": 52,
   "metadata": {},
   "outputs": [],
   "source": [
    "X = Df[['word_shared', 'nb_words1', 'nb_words2', 'portion_words']]\n",
    "y = Df['is_duplicate']"
   ]
  },
  {
   "cell_type": "code",
   "execution_count": 53,
   "metadata": {},
   "outputs": [],
   "source": [
    "# We split data in train and dev set\n",
    "X_train, X_dev, y_train, y_dev = train_test_split(X, y, test_size=0.30, random_state=42)"
   ]
  },
  {
   "cell_type": "code",
   "execution_count": 54,
   "metadata": {},
   "outputs": [
    {
     "data": {
      "text/plain": [
       "LogisticRegression(C=1.0, class_weight=None, dual=False, fit_intercept=True,\n",
       "          intercept_scaling=1, max_iter=100, multi_class='ovr', n_jobs=1,\n",
       "          penalty='l2', random_state=None, solver='liblinear', tol=0.0001,\n",
       "          verbose=0, warm_start=False)"
      ]
     },
     "execution_count": 54,
     "metadata": {},
     "output_type": "execute_result"
    }
   ],
   "source": [
    "# Logistic Regression Model\n",
    "log_reg = LogisticRegression()\n",
    "log_reg.fit(X_train, y_train)"
   ]
  },
  {
   "cell_type": "code",
   "execution_count": 55,
   "metadata": {},
   "outputs": [
    {
     "name": "stdout",
     "output_type": "stream",
     "text": [
      "Train measures\n",
      "Model Performance\n",
      "Average Error: 0.3384 degrees.\n",
      "Recall = 63.94%.\n",
      "Precision = 66.95%.\n",
      "F1_score = 65.41%.\n",
      "Accuracy = 66.16%.\n",
      "Roc_AUC = 66.16%.\n"
     ]
    }
   ],
   "source": [
    "print('Train measures')\n",
    "log_reg_accuracy = evaluate(log_reg, X_train, y_train)"
   ]
  },
  {
   "cell_type": "code",
   "execution_count": 56,
   "metadata": {},
   "outputs": [
    {
     "name": "stdout",
     "output_type": "stream",
     "text": [
      "Dev measures\n",
      "Model Performance\n",
      "Average Error: 0.3374 degrees.\n",
      "Recall = 64.05%.\n",
      "Precision = 66.92%.\n",
      "F1_score = 65.46%.\n",
      "Accuracy = 66.26%.\n",
      "Roc_AUC = 66.26%.\n"
     ]
    }
   ],
   "source": [
    "print('Dev measures')\n",
    "log_reg_accuracy = evaluate(log_reg, X_dev, y_dev)"
   ]
  },
  {
   "cell_type": "markdown",
   "metadata": {},
   "source": [
    "It is not so bad!"
   ]
  },
  {
   "cell_type": "markdown",
   "metadata": {},
   "source": [
    "## SVM"
   ]
  },
  {
   "cell_type": "markdown",
   "metadata": {},
   "source": [
    "We try linear svm."
   ]
  },
  {
   "cell_type": "code",
   "execution_count": 57,
   "metadata": {},
   "outputs": [
    {
     "data": {
      "text/plain": [
       "LinearSVC(C=1.0, class_weight=None, dual=True, fit_intercept=True,\n",
       "     intercept_scaling=1, loss='squared_hinge', max_iter=1000,\n",
       "     multi_class='ovr', penalty='l2', random_state=None, tol=0.0001,\n",
       "     verbose=0)"
      ]
     },
     "execution_count": 57,
     "metadata": {},
     "output_type": "execute_result"
    }
   ],
   "source": [
    "svm = LinearSVC()\n",
    "svm.fit(X_train,y_train)"
   ]
  },
  {
   "cell_type": "code",
   "execution_count": 58,
   "metadata": {},
   "outputs": [
    {
     "name": "stdout",
     "output_type": "stream",
     "text": [
      "Train measures\n",
      "Model Performance\n",
      "Average Error: 0.3394 degrees.\n",
      "Recall = 63.45%.\n",
      "Precision = 66.98%.\n",
      "F1_score = 65.17%.\n",
      "Accuracy = 66.06%.\n",
      "Roc_AUC = 66.06%.\n"
     ]
    }
   ],
   "source": [
    "print('Train measures')\n",
    "svm_accuracy = evaluate(svm, X_train, y_train)"
   ]
  },
  {
   "cell_type": "code",
   "execution_count": 59,
   "metadata": {},
   "outputs": [
    {
     "name": "stdout",
     "output_type": "stream",
     "text": [
      "Dev measures\n",
      "Model Performance\n",
      "Average Error: 0.3382 degrees.\n",
      "Recall = 63.56%.\n",
      "Precision = 66.98%.\n",
      "F1_score = 65.23%.\n",
      "Accuracy = 66.18%.\n",
      "Roc_AUC = 66.17%.\n"
     ]
    }
   ],
   "source": [
    "print('Dev measures')\n",
    "svm_accuracy = evaluate(svm, X_dev, y_dev)"
   ]
  },
  {
   "cell_type": "markdown",
   "metadata": {},
   "source": [
    "## Multinomial Naivebayes"
   ]
  },
  {
   "cell_type": "markdown",
   "metadata": {},
   "source": [
    " Here, we try Multinomial Navebayes."
   ]
  },
  {
   "cell_type": "code",
   "execution_count": 60,
   "metadata": {},
   "outputs": [
    {
     "data": {
      "text/plain": [
       "MultinomialNB(alpha=1.0, class_prior=None, fit_prior=True)"
      ]
     },
     "execution_count": 60,
     "metadata": {},
     "output_type": "execute_result"
    }
   ],
   "source": [
    "multi_NB = MultinomialNB()\n",
    "multi_NB.fit(X_train,y_train)"
   ]
  },
  {
   "cell_type": "code",
   "execution_count": 61,
   "metadata": {},
   "outputs": [
    {
     "name": "stdout",
     "output_type": "stream",
     "text": [
      "Train measures\n",
      "Model Performance\n",
      "Average Error: 0.3357 degrees.\n",
      "Recall = 71.33%.\n",
      "Precision = 64.99%.\n",
      "F1_score = 68.02%.\n",
      "Accuracy = 66.43%.\n",
      "Roc_AUC = 66.42%.\n"
     ]
    }
   ],
   "source": [
    "print('Train measures')\n",
    "multi_NB_accuracy = evaluate(multi_NB, X_train, y_train)"
   ]
  },
  {
   "cell_type": "code",
   "execution_count": 62,
   "metadata": {},
   "outputs": [
    {
     "name": "stdout",
     "output_type": "stream",
     "text": [
      "Dev measures\n",
      "Model Performance\n",
      "Average Error: 0.3348 degrees.\n",
      "Recall = 71.60%.\n",
      "Precision = 64.93%.\n",
      "F1_score = 68.10%.\n",
      "Accuracy = 66.52%.\n",
      "Roc_AUC = 66.53%.\n"
     ]
    }
   ],
   "source": [
    "print('Dev measures')\n",
    "multi_NB_accuracy = evaluate(multi_NB, X_dev, y_dev)"
   ]
  },
  {
   "cell_type": "markdown",
   "metadata": {},
   "source": [
    "## Decision Tree\n",
    "Now, let's try Decision Tree using just threse features to make a prediction.\n",
    "\n",
    "Let's first analyze the different parameters of Decision Trees."
   ]
  },
  {
   "cell_type": "code",
   "execution_count": 63,
   "metadata": {},
   "outputs": [
    {
     "data": {
      "text/plain": [
       "DecisionTreeClassifier(class_weight=None, criterion='gini', max_depth=10,\n",
       "            max_features=None, max_leaf_nodes=None,\n",
       "            min_impurity_decrease=0.0, min_impurity_split=None,\n",
       "            min_samples_leaf=1, min_samples_split=2,\n",
       "            min_weight_fraction_leaf=0.0, presort=False, random_state=None,\n",
       "            splitter='best')"
      ]
     },
     "execution_count": 63,
     "metadata": {},
     "output_type": "execute_result"
    }
   ],
   "source": [
    "Clf_tree = DecisionTreeClassifier(max_depth=10)\n",
    "Clf_tree.fit(X_train,y_train)"
   ]
  },
  {
   "cell_type": "code",
   "execution_count": 64,
   "metadata": {},
   "outputs": [
    {
     "name": "stdout",
     "output_type": "stream",
     "text": [
      "Train measures\n",
      "Model Performance\n",
      "Average Error: 0.2686 degrees.\n",
      "Recall = 91.45%.\n",
      "Precision = 66.96%.\n",
      "F1_score = 77.31%.\n",
      "Accuracy = 73.14%.\n",
      "Roc_AUC = 73.12%.\n"
     ]
    }
   ],
   "source": [
    "print('Train measures')\n",
    "Clf_tree_accuracy = evaluate(Clf_tree, X_train, y_train)"
   ]
  },
  {
   "cell_type": "code",
   "execution_count": 65,
   "metadata": {},
   "outputs": [
    {
     "name": "stdout",
     "output_type": "stream",
     "text": [
      "Dev measures\n",
      "Model Performance\n",
      "Average Error: 0.2709 degrees.\n",
      "Recall = 91.25%.\n",
      "Precision = 66.71%.\n",
      "F1_score = 77.08%.\n",
      "Accuracy = 72.91%.\n",
      "Roc_AUC = 72.94%.\n"
     ]
    }
   ],
   "source": [
    "print('Dev measures')\n",
    "Clf_tree_accuracy = evaluate(Clf_tree, X_dev, y_dev)"
   ]
  },
  {
   "cell_type": "markdown",
   "metadata": {},
   "source": [
    "This tree model is more precise than logistic regression"
   ]
  },
  {
   "cell_type": "markdown",
   "metadata": {},
   "source": [
    "So now, let's look at the parameters of Clf_tree"
   ]
  },
  {
   "cell_type": "code",
   "execution_count": 66,
   "metadata": {},
   "outputs": [
    {
     "data": {
      "text/plain": [
       "{'class_weight': None,\n",
       " 'criterion': 'gini',\n",
       " 'max_depth': 10,\n",
       " 'max_features': None,\n",
       " 'max_leaf_nodes': None,\n",
       " 'min_impurity_decrease': 0.0,\n",
       " 'min_impurity_split': None,\n",
       " 'min_samples_leaf': 1,\n",
       " 'min_samples_split': 2,\n",
       " 'min_weight_fraction_leaf': 0.0,\n",
       " 'presort': False,\n",
       " 'random_state': None,\n",
       " 'splitter': 'best'}"
      ]
     },
     "execution_count": 66,
     "metadata": {},
     "output_type": "execute_result"
    }
   ],
   "source": [
    "Clf_tree.get_params()"
   ]
  },
  {
   "cell_type": "markdown",
   "metadata": {},
   "source": [
    "We plot accuracy score of tree in term of each parameter to visualize its trend"
   ]
  },
  {
   "cell_type": "code",
   "execution_count": 67,
   "metadata": {},
   "outputs": [
    {
     "data": {
      "image/png": "[encoded data removed]",
      "text/plain": [
       "<Figure size 1080x504 with 6 Axes>"
      ]
     },
     "metadata": {},
     "output_type": "display_data"
    }
   ],
   "source": [
    "plt.figure(figsize=(15,7))\n",
    "\n",
    "#Max Features\n",
    "plt.subplot(2,3,1)\n",
    "feature_param = ['auto','log2',None]\n",
    "scores=[]\n",
    "for feature in feature_param:\n",
    "    clf = DecisionTreeClassifier(max_features=feature)\n",
    "    clf.fit(X_train,y_train)\n",
    "    scoreCV = cross_val_score(clf, X, y, cv= 5)\n",
    "    scores.append(np.mean(scoreCV))\n",
    "plt.plot(scores, '.-')\n",
    "plt.axis('tight')\n",
    "# plt.xlabel('parameter')\n",
    "# plt.ylabel('score')\n",
    "plt.title('Max Features')\n",
    "plt.xticks(range(len(feature_param)), feature_param)\n",
    "plt.grid();\n",
    "\n",
    "#Max Depth\n",
    "plt.subplot(2,3,2)\n",
    "feature_param = range(1,51)\n",
    "scores=[]\n",
    "for feature in feature_param:\n",
    "    clf = DecisionTreeClassifier(max_depth=feature)\n",
    "    clf.fit(X_train,y_train)\n",
    "    scoreCV = cross_val_score(clf, X, y, cv= 5)\n",
    "    scores.append(np.mean(scoreCV))\n",
    "plt.plot(feature_param, scores, '.-')\n",
    "plt.axis('tight')\n",
    "# plt.xlabel('parameter')\n",
    "# plt.ylabel('score')\n",
    "plt.title('Max Depth')\n",
    "plt.grid();\n",
    "\n",
    "#Min Samples Split\n",
    "plt.subplot(2,3,3)\n",
    "feature_param = [1.0] + list(range(2,51))\n",
    "scores=[]\n",
    "for feature in feature_param:\n",
    "    clf = DecisionTreeClassifier(min_samples_split =feature)\n",
    "    clf.fit(X_train,y_train)\n",
    "    scoreCV = cross_val_score(clf, X, y, cv= 5)\n",
    "    scores.append(np.mean(scoreCV))\n",
    "plt.plot(feature_param, scores, '.-')\n",
    "plt.axis('tight')\n",
    "# plt.xlabel('parameter')\n",
    "# plt.ylabel('score')\n",
    "plt.title('Min Samples Split')\n",
    "plt.grid();\n",
    "\n",
    "#Min Samples Leaf\n",
    "plt.subplot(2,3,4)\n",
    "feature_param = range(1,51)\n",
    "scores=[]\n",
    "for feature in feature_param:\n",
    "    clf = DecisionTreeClassifier(min_samples_leaf =feature)\n",
    "    clf.fit(X_train,y_train)\n",
    "    scoreCV = cross_val_score(clf, X, y, cv= 5)\n",
    "    scores.append(np.mean(scoreCV))\n",
    "plt.plot(feature_param, scores, '.-')\n",
    "plt.axis('tight')\n",
    "# plt.xlabel('parameter')\n",
    "# plt.ylabel('score')\n",
    "plt.title('Min Samples Leaf')\n",
    "plt.grid();\n",
    "\n",
    "#Min Weight Fraction Leaf\n",
    "plt.subplot(2,3,5)\n",
    "feature_param = np.linspace(0,0.5,10)\n",
    "scores=[]\n",
    "for feature in feature_param:\n",
    "    clf = DecisionTreeClassifier(min_weight_fraction_leaf =feature)\n",
    "    clf.fit(X_train,y_train)\n",
    "    scoreCV = cross_val_score(clf, X, y, cv= 5)\n",
    "    scores.append(np.mean(scoreCV))\n",
    "plt.plot(feature_param, scores, '.-')\n",
    "plt.axis('tight')\n",
    "# plt.xlabel('parameter')\n",
    "# plt.ylabel('score')\n",
    "plt.title('Min Weight Fraction Leaf')\n",
    "plt.grid();\n",
    "\n",
    "#Max Leaf Nodes\n",
    "plt.subplot(2,3,6)\n",
    "feature_param = range(2,21)\n",
    "scores=[]\n",
    "for feature in feature_param:\n",
    "    clf = DecisionTreeClassifier(max_leaf_nodes=feature)\n",
    "    clf.fit(X_train,y_train)\n",
    "    scoreCV = cross_val_score(clf, X, y, cv= 5)\n",
    "    scores.append(np.mean(scoreCV))\n",
    "plt.plot(feature_param, scores, '.-')\n",
    "plt.axis('tight')\n",
    "# plt.xlabel('parameter')\n",
    "# plt.ylabel('score')\n",
    "plt.title('Max Leaf Nodes')\n",
    "plt.grid()"
   ]
  },
  {
   "cell_type": "markdown",
   "metadata": {},
   "source": [
    "These figure help us to restrict our window of hyper parameters. After this, we use RandomGridSearch to tune hyperparameter of tree model for our data"
   ]
  },
  {
   "cell_type": "code",
   "execution_count": 68,
   "metadata": {},
   "outputs": [],
   "source": [
    "# Construction of dictionary's elements of GridSearch\n",
    "\n",
    "# Number of criterion\n",
    "criterion = ['gini', 'entropy']\n",
    "# Number of features to consider at every split\n",
    "max_features = ['auto', 'sqrt', None]\n",
    "# Maximum number of leaf node in tree\n",
    "max_leaf_nodes = [int(x) for x in np.linspace(15, 21, num = 7)]\n",
    "# Maximum number of levels in tree\n",
    "max_depth = [int(x) for x in np.linspace(15, 35, num = 10)]\n",
    "max_depth.append(None)\n",
    "# Minimum number of samples required to split a node\n",
    "min_samples_split = [2, 3, 4, 5]\n",
    "# Minimum number of samples required at each leaf node\n",
    "min_samples_leaf = [int(x) for x in np.linspace(1, 5, num = 5)]"
   ]
  },
  {
   "cell_type": "code",
   "execution_count": 69,
   "metadata": {},
   "outputs": [
    {
     "name": "stdout",
     "output_type": "stream",
     "text": [
      "{'max_leaf_nodes': [15, 16, 17, 18, 19, 20, 21], 'criterion': ['gini', 'entropy'], 'min_samples_leaf': [1, 2, 3, 4, 5], 'min_samples_split': [2, 3, 4, 5], 'max_depth': [15, 17, 19, 21, 23, 26, 28, 30, 32, 35, None], 'max_features': ['auto', 'sqrt', None]}\n"
     ]
    }
   ],
   "source": [
    "# We create Tree grid\n",
    "tree_grid = {'criterion': criterion,\n",
    "               'max_features': max_features,\n",
    "               'max_leaf_nodes': max_leaf_nodes,\n",
    "               'max_depth': max_depth,\n",
    "               'min_samples_split': min_samples_split,\n",
    "               'min_samples_leaf': min_samples_leaf,\n",
    "               }\n",
    "print(tree_grid)"
   ]
  },
  {
   "cell_type": "code",
   "execution_count": 70,
   "metadata": {},
   "outputs": [
    {
     "name": "stdout",
     "output_type": "stream",
     "text": [
      "Fitting 3 folds for each of 150 candidates, totalling 450 fits\n"
     ]
    },
    {
     "name": "stderr",
     "output_type": "stream",
     "text": [
      "[Parallel(n_jobs=4)]: Done  33 tasks      | elapsed:    5.1s\n",
      "[Parallel(n_jobs=4)]: Done 154 tasks      | elapsed:   18.1s\n",
      "[Parallel(n_jobs=4)]: Done 357 tasks      | elapsed:   40.0s\n",
      "[Parallel(n_jobs=4)]: Done 450 out of 450 | elapsed:   50.1s finished\n"
     ]
    },
    {
     "data": {
      "text/plain": [
       "RandomizedSearchCV(cv=3, error_score='raise',\n",
       "          estimator=DecisionTreeClassifier(class_weight=None, criterion='gini', max_depth=None,\n",
       "            max_features=None, max_leaf_nodes=None,\n",
       "            min_impurity_decrease=0.0, min_impurity_split=None,\n",
       "            min_samples_leaf=1, min_samples_split=2,\n",
       "            min_weight_fraction_leaf=0.0, presort=False, random_state=None,\n",
       "            splitter='best'),\n",
       "          fit_params=None, iid=True, n_iter=150, n_jobs=4,\n",
       "          param_distributions={'max_leaf_nodes': [15, 16, 17, 18, 19, 20, 21], 'criterion': ['gini', 'entropy'], 'min_samples_leaf': [1, 2, 3, 4, 5], 'min_samples_split': [2, 3, 4, 5], 'max_depth': [15, 17, 19, 21, 23, 26, 28, 30, 32, 35, None], 'max_features': ['auto', 'sqrt', None]},\n",
       "          pre_dispatch='2*n_jobs', random_state=42, refit=True,\n",
       "          return_train_score='warn', scoring=None, verbose=2)"
      ]
     },
     "execution_count": 70,
     "metadata": {},
     "output_type": "execute_result"
    }
   ],
   "source": [
    "# Use the Tree grid to search the best hyperparameters\n",
    "# First create the base model to tune\n",
    "dc_clf = DecisionTreeClassifier()\n",
    "# search across 150 different combinations, and use 4 cores\n",
    "tree_clf = RandomizedSearchCV(estimator = dc_clf, param_distributions = tree_grid, n_iter = 150, cv = 3, verbose=2, random_state=42, n_jobs = 4)\n",
    "# Fit the random search model\n",
    "tree_clf.fit(X_train, y_train)"
   ]
  },
  {
   "cell_type": "code",
   "execution_count": 71,
   "metadata": {},
   "outputs": [
    {
     "data": {
      "text/plain": [
       "{'criterion': 'gini',\n",
       " 'max_depth': None,\n",
       " 'max_features': None,\n",
       " 'max_leaf_nodes': 21,\n",
       " 'min_samples_leaf': 3,\n",
       " 'min_samples_split': 2}"
      ]
     },
     "execution_count": 71,
     "metadata": {},
     "output_type": "execute_result"
    }
   ],
   "source": [
    "tree_clf.best_params_"
   ]
  },
  {
   "cell_type": "code",
   "execution_count": 72,
   "metadata": {},
   "outputs": [],
   "source": [
    "best_tree = tree_clf.best_estimator_"
   ]
  },
  {
   "cell_type": "code",
   "execution_count": 73,
   "metadata": {},
   "outputs": [
    {
     "name": "stdout",
     "output_type": "stream",
     "text": [
      "Train measures\n",
      "Model Performance\n",
      "Average Error: 0.2746 degrees.\n",
      "Recall = 92.91%.\n",
      "Precision = 66.03%.\n",
      "F1_score = 77.20%.\n",
      "Accuracy = 72.54%.\n",
      "Roc_AUC = 72.52%.\n"
     ]
    }
   ],
   "source": [
    "print('Train measures')\n",
    "best_teree_accuracy = evaluate(best_tree, X_train, y_train)"
   ]
  },
  {
   "cell_type": "code",
   "execution_count": 74,
   "metadata": {},
   "outputs": [
    {
     "name": "stdout",
     "output_type": "stream",
     "text": [
      "Dev measures\n",
      "Model Performance\n",
      "Average Error: 0.2751 degrees.\n",
      "Recall = 92.90%.\n",
      "Precision = 65.93%.\n",
      "F1_score = 77.12%.\n",
      "Accuracy = 72.49%.\n",
      "Roc_AUC = 72.53%.\n"
     ]
    }
   ],
   "source": [
    "print('Dev measures')\n",
    "best_teree_accuracy = evaluate(best_tree, X_dev, y_dev)"
   ]
  },
  {
   "cell_type": "markdown",
   "metadata": {},
   "source": [
    "We have better result with decision tree"
   ]
  },
  {
   "cell_type": "markdown",
   "metadata": {},
   "source": [
    "## RandomForest"
   ]
  },
  {
   "cell_type": "markdown",
   "metadata": {},
   "source": [
    "After looking at the performance of the best tree we found, we can expect to improve the result checking the performance of the best randomforest model we shall search. Let's start with the dictionnary of parameters."
   ]
  },
  {
   "cell_type": "code",
   "execution_count": 75,
   "metadata": {},
   "outputs": [],
   "source": [
    "# Contruction of dictionary's elements of GridSearch\n",
    "\n",
    "# Number of trees in random forest\n",
    "n_estimators = [int(x) for x in np.linspace(start = 60, stop = 500, num = 10)]\n",
    "# Number of features to consider at every split\n",
    "max_features = ['auto', 'sqrt']\n",
    "# Maximum number of levels in tree\n",
    "max_depth = [int(x) for x in np.linspace(10, 110, num = 11)]\n",
    "max_depth.append(None)\n",
    "# Minimum number of samples required to split a node\n",
    "min_samples_split = [2, 3, 4, 5]\n",
    "# Minimum number of samples required at each leaf node\n",
    "min_samples_leaf = [1, 2, 3, 4, 5]\n",
    "# Method of selecting samples for training each tree\n",
    "bootstrap = [True, False]"
   ]
  },
  {
   "cell_type": "code",
   "execution_count": 76,
   "metadata": {},
   "outputs": [
    {
     "name": "stdout",
     "output_type": "stream",
     "text": [
      "{'bootstrap': [True, False], 'min_samples_leaf': [1, 2, 3, 4, 5], 'min_samples_split': [2, 3, 4, 5], 'max_depth': [10, 20, 30, 40, 50, 60, 70, 80, 90, 100, 110, None], 'max_features': ['auto', 'sqrt'], 'n_estimators': [60, 108, 157, 206, 255, 304, 353, 402, 451, 500]}\n"
     ]
    }
   ],
   "source": [
    "# Create the random grid\n",
    "random_grid = {'n_estimators': n_estimators,\n",
    "               'max_features': max_features,\n",
    "               'max_depth': max_depth,\n",
    "               'min_samples_split': min_samples_split,\n",
    "               'min_samples_leaf': min_samples_leaf,\n",
    "               'bootstrap': bootstrap}\n",
    "print(random_grid)"
   ]
  },
  {
   "cell_type": "code",
   "execution_count": 77,
   "metadata": {},
   "outputs": [
    {
     "name": "stdout",
     "output_type": "stream",
     "text": [
      "Fitting 3 folds for each of 100 candidates, totalling 300 fits\n"
     ]
    },
    {
     "name": "stderr",
     "output_type": "stream",
     "text": [
      "[Parallel(n_jobs=4)]: Done  33 tasks      | elapsed: 13.1min\n",
      "[Parallel(n_jobs=4)]: Done 154 tasks      | elapsed: 59.7min\n",
      "[Parallel(n_jobs=4)]: Done 300 out of 300 | elapsed: 125.3min finished\n"
     ]
    },
    {
     "data": {
      "text/plain": [
       "RandomizedSearchCV(cv=3, error_score='raise',\n",
       "          estimator=RandomForestClassifier(bootstrap=True, class_weight=None, criterion='gini',\n",
       "            max_depth=None, max_features='auto', max_leaf_nodes=None,\n",
       "            min_impurity_decrease=0.0, min_impurity_split=None,\n",
       "            min_samples_leaf=1, min_samples_split=2,\n",
       "            min_weight_fraction_leaf=0.0, n_estimators=10, n_jobs=1,\n",
       "            oob_score=False, random_state=None, verbose=0,\n",
       "            warm_start=False),\n",
       "          fit_params=None, iid=True, n_iter=100, n_jobs=4,\n",
       "          param_distributions={'bootstrap': [True, False], 'min_samples_leaf': [1, 2, 3, 4, 5], 'min_samples_split': [2, 3, 4, 5], 'max_depth': [10, 20, 30, 40, 50, 60, 70, 80, 90, 100, 110, None], 'max_features': ['auto', 'sqrt'], 'n_estimators': [60, 108, 157, 206, 255, 304, 353, 402, 451, 500]},\n",
       "          pre_dispatch='2*n_jobs', random_state=42, refit=True,\n",
       "          return_train_score='warn', scoring=None, verbose=2)"
      ]
     },
     "execution_count": 77,
     "metadata": {},
     "output_type": "execute_result"
    }
   ],
   "source": [
    "# Use the random grid to search for best hyperparameters\n",
    "# First create the base model to tune\n",
    "rf = RandomForestClassifier()\n",
    "# Random search of parameters, using 3 fold cross validation, \n",
    "# search across 100 different combinations, and use 4 cores\n",
    "rf_random = RandomizedSearchCV(estimator = rf, param_distributions = random_grid, n_iter = 100, cv = 3, verbose=2, random_state=42, n_jobs = 4)\n",
    "# Fit the random search model\n",
    "rf_random.fit(X_train, y_train)"
   ]
  },
  {
   "cell_type": "code",
   "execution_count": 78,
   "metadata": {},
   "outputs": [
    {
     "data": {
      "text/plain": [
       "{'bootstrap': False,\n",
       " 'max_depth': 20,\n",
       " 'max_features': 'auto',\n",
       " 'min_samples_leaf': 5,\n",
       " 'min_samples_split': 5,\n",
       " 'n_estimators': 108}"
      ]
     },
     "execution_count": 78,
     "metadata": {},
     "output_type": "execute_result"
    }
   ],
   "source": [
    "rf_random.best_params_"
   ]
  },
  {
   "cell_type": "code",
   "execution_count": 79,
   "metadata": {},
   "outputs": [],
   "source": [
    "best_random = rf_random.best_estimator_"
   ]
  },
  {
   "cell_type": "code",
   "execution_count": 80,
   "metadata": {},
   "outputs": [
    {
     "name": "stdout",
     "output_type": "stream",
     "text": [
      "Train measures\n",
      "Model Performance\n",
      "Average Error: 0.2598 degrees.\n",
      "Recall = 91.40%.\n",
      "Precision = 67.84%.\n",
      "F1_score = 77.88%.\n",
      "Accuracy = 74.02%.\n",
      "Roc_AUC = 74.00%.\n"
     ]
    }
   ],
   "source": [
    "print('Train measures')\n",
    "best_random_accuracy = evaluate(best_random, X_train, y_train)"
   ]
  },
  {
   "cell_type": "code",
   "execution_count": 81,
   "metadata": {},
   "outputs": [
    {
     "name": "stdout",
     "output_type": "stream",
     "text": [
      "Dev measures\n",
      "Model Performance\n",
      "Average Error: 0.2678 degrees.\n",
      "Recall = 90.63%.\n",
      "Precision = 67.17%.\n",
      "F1_score = 77.16%.\n",
      "Accuracy = 73.22%.\n",
      "Roc_AUC = 73.25%.\n"
     ]
    }
   ],
   "source": [
    "print('Dev measures')\n",
    "random_accuracy = evaluate(best_random, X_dev, y_dev)"
   ]
  },
  {
   "cell_type": "markdown",
   "metadata": {},
   "source": [
    "Here we compare metrics of models selected. We will visualize these performances"
   ]
  },
  {
   "cell_type": "code",
   "execution_count": 82,
   "metadata": {},
   "outputs": [],
   "source": [
    "# We gather our models into a list\n",
    "Models = [log_reg, svm, multi_NB, best_tree, best_random]\n",
    "models = ['log_reg', 'svm', 'multi_NB', 'best_tree', 'best_random']"
   ]
  },
  {
   "cell_type": "code",
   "execution_count": 83,
   "metadata": {},
   "outputs": [],
   "source": [
    "# We collect metrics we need in a dictionnary\n",
    "def metrics(Models, features, labels):\n",
    "    Precision = []\n",
    "    Recall = []\n",
    "    F1_Score = []\n",
    "    Accuracy = []\n",
    "    Roc_AUC = []\n",
    "    for model in Models:\n",
    "        predictions = model.predict(features)\n",
    "        precision = precision_score(labels, predictions)*100\n",
    "        recall = recall_score(labels, predictions)*100\n",
    "        f1_Score = f1_score(labels, predictions)*100\n",
    "        roc_auc = roc_auc_score(labels, predictions)*100\n",
    "        accuracy = accuracy_score(labels, predictions)*100\n",
    "        Precision.append(precision)\n",
    "        Recall.append(recall)\n",
    "        F1_Score.append(f1_Score)\n",
    "        Accuracy.append(accuracy)\n",
    "        Roc_AUC.append(roc_auc)\n",
    "    dict = {'Models': Models, \n",
    "            'Precision': Precision, \n",
    "            'Recall': Recall, \n",
    "            'F1_Score': F1_Score, \n",
    "            'Accuracy': Accuracy, \n",
    "            'Roc_AUC': Roc_AUC}\n",
    "    return dict \n",
    "    "
   ]
  },
  {
   "cell_type": "code",
   "execution_count": 84,
   "metadata": {},
   "outputs": [],
   "source": [
    "train_metrics = metrics(Models, X_train, y_train)\n",
    "dev_metrics = metrics(Models, X_dev, y_dev)\n",
    "df_train_metrics = pd.DataFrame(data=train_metrics)\n",
    "df_dev_metrics = pd.DataFrame(data=dev_metrics)"
   ]
  },
  {
   "cell_type": "code",
   "execution_count": 85,
   "metadata": {},
   "outputs": [],
   "source": [
    "df_train_metrics['Models'] = models\n",
    "df_dev_metrics['Models'] = models"
   ]
  },
  {
   "cell_type": "code",
   "execution_count": 86,
   "metadata": {},
   "outputs": [],
   "source": [
    "df_train_metrics = df_train_metrics[['Models', 'Precision', 'Recall', 'F1_Score', 'Accuracy','Roc_AUC']]\n",
    "df_dev_metrics = df_dev_metrics[['Models', 'Precision', 'Recall', 'F1_Score', 'Accuracy','Roc_AUC']]\n"
   ]
  },
  {
   "cell_type": "code",
   "execution_count": 87,
   "metadata": {},
   "outputs": [
    {
     "data": {
      "text/html": [
       "<div>\n",
       "<style scoped>\n",
       "    .dataframe tbody tr th:only-of-type {\n",
       "        vertical-align: middle;\n",
       "    }\n",
       "\n",
       "    .dataframe tbody tr th {\n",
       "        vertical-align: top;\n",
       "    }\n",
       "\n",
       "    .dataframe thead th {\n",
       "        text-align: right;\n",
       "    }\n",
       "</style>\n",
       "<table border=\"1\" class=\"dataframe\">\n",
       "  <thead>\n",
       "    <tr style=\"text-align: right;\">\n",
       "      <th></th>\n",
       "      <th>Models</th>\n",
       "      <th>Precision</th>\n",
       "      <th>Recall</th>\n",
       "      <th>F1_Score</th>\n",
       "      <th>Accuracy</th>\n",
       "      <th>Roc_AUC</th>\n",
       "    </tr>\n",
       "  </thead>\n",
       "  <tbody>\n",
       "    <tr>\n",
       "      <th>0</th>\n",
       "      <td>log_reg</td>\n",
       "      <td>66.946972</td>\n",
       "      <td>63.944006</td>\n",
       "      <td>65.411041</td>\n",
       "      <td>66.159810</td>\n",
       "      <td>66.161580</td>\n",
       "    </tr>\n",
       "    <tr>\n",
       "      <th>1</th>\n",
       "      <td>svm</td>\n",
       "      <td>66.983958</td>\n",
       "      <td>63.453692</td>\n",
       "      <td>65.171052</td>\n",
       "      <td>66.061781</td>\n",
       "      <td>66.063864</td>\n",
       "    </tr>\n",
       "    <tr>\n",
       "      <th>2</th>\n",
       "      <td>multi_NB</td>\n",
       "      <td>64.992300</td>\n",
       "      <td>71.333979</td>\n",
       "      <td>68.015637</td>\n",
       "      <td>66.428409</td>\n",
       "      <td>66.424490</td>\n",
       "    </tr>\n",
       "    <tr>\n",
       "      <th>3</th>\n",
       "      <td>best_tree</td>\n",
       "      <td>66.033225</td>\n",
       "      <td>92.909477</td>\n",
       "      <td>77.199045</td>\n",
       "      <td>72.537020</td>\n",
       "      <td>72.520745</td>\n",
       "    </tr>\n",
       "    <tr>\n",
       "      <th>4</th>\n",
       "      <td>best_random</td>\n",
       "      <td>67.843373</td>\n",
       "      <td>91.401593</td>\n",
       "      <td>77.879917</td>\n",
       "      <td>74.018659</td>\n",
       "      <td>74.004772</td>\n",
       "    </tr>\n",
       "  </tbody>\n",
       "</table>\n",
       "</div>"
      ],
      "text/plain": [
       "        Models  Precision     Recall   F1_Score   Accuracy    Roc_AUC\n",
       "0      log_reg  66.946972  63.944006  65.411041  66.159810  66.161580\n",
       "1          svm  66.983958  63.453692  65.171052  66.061781  66.063864\n",
       "2     multi_NB  64.992300  71.333979  68.015637  66.428409  66.424490\n",
       "3    best_tree  66.033225  92.909477  77.199045  72.537020  72.520745\n",
       "4  best_random  67.843373  91.401593  77.879917  74.018659  74.004772"
      ]
     },
     "execution_count": 87,
     "metadata": {},
     "output_type": "execute_result"
    }
   ],
   "source": [
    "df_train_metrics"
   ]
  },
  {
   "cell_type": "markdown",
   "metadata": {},
   "source": [
    "Visualization of train metrics"
   ]
  },
  {
   "cell_type": "code",
   "execution_count": 88,
   "metadata": {},
   "outputs": [
    {
     "data": {
      "image/png": "[encoded data removed]",
      "text/plain": [
       "<Figure size 1440x432 with 5 Axes>"
      ]
     },
     "metadata": {},
     "output_type": "display_data"
    }
   ],
   "source": [
    "plt.figure(figsize=(20,6))\n",
    "\n",
    "#Precisions bar plot\n",
    "plt.subplot(1,5,1)\n",
    "plt.bar(models,df_train_metrics['Precision'], color='b', alpha=0.6, width=0.4)\n",
    "plt.title('Presision')\n",
    "\n",
    "#Recalls bar plot\n",
    "plt.subplot(1,5,2)\n",
    "plt.bar(models,df_train_metrics['Recall'], color='b', alpha=0.6, width=0.4)\n",
    "plt.title('Recalls')\n",
    "\n",
    "#F1_Scores of our models\n",
    "plt.subplot(1,5,3)\n",
    "plt.bar(models,df_train_metrics['F1_Score'], color='b', alpha=0.6, width=0.4)\n",
    "plt.title('F1_Score')\n",
    "\n",
    "\n",
    "#Accuracies bar plot\n",
    "plt.subplot(1,5,4)\n",
    "plt.bar(models,df_train_metrics['Accuracy'], color='b', alpha=0.6, width=0.4)\n",
    "plt.title('Accuracy')\n",
    "\n",
    "#Roc_AUC bar plot\n",
    "plt.subplot(1,5,5)\n",
    "plt.bar(models,df_train_metrics['Roc_AUC'], color='b', alpha=0.6, width=0.4)\n",
    "plt.title('Roc_AUC')\n",
    "\n",
    "plt.show()"
   ]
  },
  {
   "cell_type": "code",
   "execution_count": 89,
   "metadata": {},
   "outputs": [
    {
     "data": {
      "text/html": [
       "<div>\n",
       "<style scoped>\n",
       "    .dataframe tbody tr th:only-of-type {\n",
       "        vertical-align: middle;\n",
       "    }\n",
       "\n",
       "    .dataframe tbody tr th {\n",
       "        vertical-align: top;\n",
       "    }\n",
       "\n",
       "    .dataframe thead th {\n",
       "        text-align: right;\n",
       "    }\n",
       "</style>\n",
       "<table border=\"1\" class=\"dataframe\">\n",
       "  <thead>\n",
       "    <tr style=\"text-align: right;\">\n",
       "      <th></th>\n",
       "      <th>Models</th>\n",
       "      <th>Precision</th>\n",
       "      <th>Recall</th>\n",
       "      <th>F1_Score</th>\n",
       "      <th>Accuracy</th>\n",
       "      <th>Roc_AUC</th>\n",
       "    </tr>\n",
       "  </thead>\n",
       "  <tbody>\n",
       "    <tr>\n",
       "      <th>0</th>\n",
       "      <td>log_reg</td>\n",
       "      <td>66.922056</td>\n",
       "      <td>64.052065</td>\n",
       "      <td>65.455616</td>\n",
       "      <td>66.259305</td>\n",
       "      <td>66.255201</td>\n",
       "    </tr>\n",
       "    <tr>\n",
       "      <th>1</th>\n",
       "      <td>svm</td>\n",
       "      <td>66.983163</td>\n",
       "      <td>63.557080</td>\n",
       "      <td>65.225162</td>\n",
       "      <td>66.177614</td>\n",
       "      <td>66.172742</td>\n",
       "    </tr>\n",
       "    <tr>\n",
       "      <th>2</th>\n",
       "      <td>multi_NB</td>\n",
       "      <td>64.927509</td>\n",
       "      <td>71.602546</td>\n",
       "      <td>68.101854</td>\n",
       "      <td>66.524635</td>\n",
       "      <td>66.534075</td>\n",
       "    </tr>\n",
       "    <tr>\n",
       "      <th>3</th>\n",
       "      <td>best_tree</td>\n",
       "      <td>65.927551</td>\n",
       "      <td>92.897363</td>\n",
       "      <td>77.122606</td>\n",
       "      <td>72.494559</td>\n",
       "      <td>72.532490</td>\n",
       "    </tr>\n",
       "    <tr>\n",
       "      <th>4</th>\n",
       "      <td>best_random</td>\n",
       "      <td>67.172639</td>\n",
       "      <td>90.631957</td>\n",
       "      <td>77.158560</td>\n",
       "      <td>73.219969</td>\n",
       "      <td>73.252339</td>\n",
       "    </tr>\n",
       "  </tbody>\n",
       "</table>\n",
       "</div>"
      ],
      "text/plain": [
       "        Models  Precision     Recall   F1_Score   Accuracy    Roc_AUC\n",
       "0      log_reg  66.922056  64.052065  65.455616  66.259305  66.255201\n",
       "1          svm  66.983163  63.557080  65.225162  66.177614  66.172742\n",
       "2     multi_NB  64.927509  71.602546  68.101854  66.524635  66.534075\n",
       "3    best_tree  65.927551  92.897363  77.122606  72.494559  72.532490\n",
       "4  best_random  67.172639  90.631957  77.158560  73.219969  73.252339"
      ]
     },
     "execution_count": 89,
     "metadata": {},
     "output_type": "execute_result"
    }
   ],
   "source": [
    "df_dev_metrics "
   ]
  },
  {
   "cell_type": "markdown",
   "metadata": {},
   "source": [
    "Visualization of train metrics"
   ]
  },
  {
   "cell_type": "code",
   "execution_count": 90,
   "metadata": {},
   "outputs": [
    {
     "data": {
      "image/png": "[encoded data removed]",
      "text/plain": [
       "<Figure size 1440x432 with 5 Axes>"
      ]
     },
     "metadata": {},
     "output_type": "display_data"
    }
   ],
   "source": [
    "plt.figure(figsize=(20,6))\n",
    "\n",
    "#Precisions bar plot\n",
    "plt.subplot(1,5,1)\n",
    "plt.bar(models,df_dev_metrics['Precision'], color='g', alpha=0.6, width=0.4)\n",
    "plt.title('Presision')\n",
    "\n",
    "#Recalls bar plot\n",
    "plt.subplot(1,5,2)\n",
    "plt.bar(models,df_dev_metrics['Recall'], color='g', alpha=0.6, width=0.4)\n",
    "plt.title('Recalls')\n",
    "\n",
    "#F1_Scores of our models\n",
    "plt.subplot(1,5,3)\n",
    "plt.bar(models,df_dev_metrics['F1_Score'], color='g', alpha=0.6, width=0.4)\n",
    "plt.title('F1_Score')\n",
    "\n",
    "\n",
    "#Accuracies bar plot\n",
    "plt.subplot(1,5,4)\n",
    "plt.bar(models,df_dev_metrics['Accuracy'], color='g', alpha=0.6, width=0.4)\n",
    "plt.title('Accuracy')\n",
    "\n",
    "#Roc_AUC bar plot\n",
    "plt.subplot(1,5,5)\n",
    "plt.bar(models,df_dev_metrics['Roc_AUC'], color='g', alpha=0.6, width=0.4)\n",
    "plt.title('Roc_AUC')\n",
    "\n",
    "plt.show()\n",
    "\n"
   ]
  },
  {
   "cell_type": "markdown",
   "metadata": {},
   "source": [
    "It is clear that best_random is the best model for this study."
   ]
  },
  {
   "cell_type": "markdown",
   "metadata": {},
   "source": [
    "# Submission"
   ]
  },
  {
   "cell_type": "code",
   "execution_count": 91,
   "metadata": {},
   "outputs": [],
   "source": [
    "test_features = test[['word_shared', 'nb_words1', 'nb_words2', 'portion_words']]"
   ]
  },
  {
   "cell_type": "code",
   "execution_count": 92,
   "metadata": {},
   "outputs": [],
   "source": [
    "submission = best_random.predict(test_features)"
   ]
  },
  {
   "cell_type": "code",
   "execution_count": 93,
   "metadata": {},
   "outputs": [],
   "source": [
    "repartition = list(submission)"
   ]
  },
  {
   "cell_type": "code",
   "execution_count": 94,
   "metadata": {},
   "outputs": [
    {
     "data": {
      "image/png": "[encoded data removed]",
      "text/plain": [
       "<Figure size 432x288 with 1 Axes>"
      ]
     },
     "metadata": {},
     "output_type": "display_data"
    }
   ],
   "source": [
    "plt.bar(['False', 'True'],[repartition.count(0), repartition.count(1)], alpha=0.6)\n",
    "plt.title('Questions matche')\n",
    "plt.show()"
   ]
  },
  {
   "cell_type": "markdown",
   "metadata": {},
   "source": [
    "For further work we will try for feauturing TF-IDF and word2vec. We will also try Neural Network models "
   ]
  },
  {
   "cell_type": "code",
   "execution_count": null,
   "metadata": {},
   "outputs": [],
   "source": []
  }
 ],
 "metadata": {
  "kernelspec": {
   "display_name": "Python 3",
   "language": "python",
   "name": "python3"
  },
  "language_info": {
   "codemirror_mode": {
    "name": "ipython",
    "version": 3
   },
   "file_extension": ".py",
   "mimetype": "text/x-python",
   "name": "python",
   "nbconvert_exporter": "python",
   "pygments_lexer": "ipython3",
   "version": "3.5.5"
  }
 },
 "nbformat": 4,
 "nbformat_minor": 2
}
